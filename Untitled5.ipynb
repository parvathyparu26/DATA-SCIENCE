{
  "nbformat": 4,
  "nbformat_minor": 0,
  "metadata": {
    "colab": {
      "provenance": [],
      "authorship_tag": "ABX9TyOrgN9eP6sKl3JuB8OwBOe+",
      "include_colab_link": true
    },
    "kernelspec": {
      "name": "python3",
      "display_name": "Python 3"
    },
    "language_info": {
      "name": "python"
    }
  },
  "cells": [
    {
      "cell_type": "markdown",
      "metadata": {
        "id": "view-in-github",
        "colab_type": "text"
      },
      "source": [
        "<a href=\"https://colab.research.google.com/github/parvathyparu26/DATA-SCIENCE/blob/main/Untitled5.ipynb\" target=\"_parent\"><img src=\"https://colab.research.google.com/assets/colab-badge.svg\" alt=\"Open In Colab\"/></a>"
      ]
    },
    {
      "cell_type": "code",
      "execution_count": 1,
      "metadata": {
        "colab": {
          "base_uri": "https://localhost:8080/"
        },
        "id": "j4mWifmALzgi",
        "outputId": "12641ff4-6732-4e9a-fb70-7092b060df31"
      },
      "outputs": [
        {
          "output_type": "stream",
          "name": "stdout",
          "text": [
            "One dimensional array a =  [1 2 3]\n",
            "Two dimensional array b =  [[1 2 3]\n",
            " [4 5 6]]\n",
            "Size of the array:  (3,)\n",
            "Element at indices 0,1,2 :  1 2 3\n",
            "Array after changing the element at index 0 :  [5 2 3]\n",
            "An array of all zeros :  [[0. 0.]\n",
            " [0. 0.]]\n",
            "An array of all ones :  [[1. 1.]]\n",
            "A constant array :  [[7 7]\n",
            " [7 7]]\n",
            "A 2*2 identity matrix :  [[1. 0.]\n",
            " [0. 1.]]\n",
            "An array with random values :  [[0.94473876 0.76402145]\n",
            " [0.89482006 0.56780294]]\n"
          ]
        }
      ],
      "source": [
        "import numpy as np\n",
        "a = np.array([1, 2, 3]) # Create a rank 1 array\n",
        "print(\"One dimensional array a = \",a)\n",
        "b = np.array([[1,2,3],[4,5,6]])\n",
        "print(\"Two dimensional array b = \",b)\n",
        "print(\"Size of the array: \",a.shape)\n",
        "print(\"Element at indices 0,1,2 : \",a[0], a[1], a[2])\n",
        "a[0] = 5 # Change an element of the array\n",
        "print(\"Array after changing the element at index 0 : \",a)\n",
        "a = np.zeros((2,2)) # Create an array of all zeros\n",
        "print(\"An array of all zeros : \",a)\n",
        "b = np.ones((1,2)) # Create an array of all ones\n",
        "print(\"An array of all ones : \",b)\n",
        "c = np.full((2,2), 7) # Create a constant array\n",
        "print(\"A constant array : \",c)\n",
        "d = np.eye (2) # Create a 2x2 identity matrix\n",
        "print(\"A 2*2 identity matrix : \",d)\n",
        "e = np.random.random((2,2)) # Create an array filled with random values\n",
        "print(\"An array with random values : \",e)"
      ]
    },
    {
      "cell_type": "code",
      "source": [
        "import numpy as np\n",
        "print(\"Array indexing: slicing\")\n",
        "a1 = np.array([[1,2,3,4], [5,6,7,8], [9,10,11,12]])\n",
        "print(\"a1 = \",a1)\n",
        "b = a1[:2, 1:3]\n",
        "print(\"Subarray consisting of first two rows and columns 1 and 2: \",b)\n",
        "b=a1[1:2,:]\n",
        "print(\"Subarray consists of second row: \",b)\n",
        "print(\"Accessing columns: \")\n",
        "b=a1[:,1]\n",
        "print(b,b.shape)\n",
        "c=a1[:,1:2]\n",
        "print(c,c.shape)\n",
        "print(\"Array integer indexing: \")\n",
        "a2 = np.array([[1,2], [3, 4], [5, 6]])\n",
        "print(\"a2 = \",a2)\n",
        "print(\"Example of array integer indexing: \",a2[[0, 1, 2], [0, 1, 0]])\n",
        "# When using integer array indexing, you can reuse the same element from the source\n",
        "#array\n",
        "print(a2[[0, 0], [1, 1]])\n",
        "# Equivalent to the previous integer array indexing example print(np.array([a2[0, 1], a[0, 1]]))\n",
        "a3=a = np.array([[1,2,3], [4,5,6], [7,8,9], [10, 11, 12]])\n",
        "print(\"a3 = \",a3)\n",
        "# Create an array of indices\n",
        "b = np.array([0, 2, 0, 1])\n",
        "print(\"b = \",b)\n",
        "# Select one element from each row of a using the indices in b\n",
        "print(\"a3\",a3[np.arange(4), b]) # Mutate one element from each row of a using the indices in b\n",
        "a3[np.arange(4), b] += 10\n",
        "print(\"a3 = \",a3)\n",
        "print(\"Boolean array indexing: \")\n",
        "a = np.array([[1,2], [3, 4], [5, 6]])\n",
        "print(\"a = \",a)\n",
        "bool_idx= (a > 2)\n",
        "print(\"Elements greater than 2: \",a[bool_idx])\n"
      ],
      "metadata": {
        "colab": {
          "base_uri": "https://localhost:8080/"
        },
        "id": "DHkh5dZnL7z6",
        "outputId": "8d3f3f8d-b7ba-400e-8b9a-f392f05ec740"
      },
      "execution_count": 3,
      "outputs": [
        {
          "output_type": "stream",
          "name": "stdout",
          "text": [
            "Array indexing: slicing\n",
            "a1 =  [[ 1  2  3  4]\n",
            " [ 5  6  7  8]\n",
            " [ 9 10 11 12]]\n",
            "Subarray consisting of first two rows and columns 1 and 2:  [[2 3]\n",
            " [6 7]]\n",
            "Subarray consists of second row:  [[5 6 7 8]]\n",
            "Accessing columns: \n",
            "[ 2  6 10] (3,)\n",
            "[[ 2]\n",
            " [ 6]\n",
            " [10]] (3, 1)\n",
            "Array integer indexing: \n",
            "a2 =  [[1 2]\n",
            " [3 4]\n",
            " [5 6]]\n",
            "Example of array integer indexing:  [1 4 5]\n",
            "[2 2]\n",
            "a3 =  [[ 1  2  3]\n",
            " [ 4  5  6]\n",
            " [ 7  8  9]\n",
            " [10 11 12]]\n",
            "b =  [0 2 0 1]\n",
            "a3 [ 1  6  7 11]\n",
            "a3 =  [[11  2  3]\n",
            " [ 4  5 16]\n",
            " [17  8  9]\n",
            " [10 21 12]]\n",
            "Boolean array indexing: \n",
            "a =  [[1 2]\n",
            " [3 4]\n",
            " [5 6]]\n",
            "Elements greater than 2:  [3 4 5 6]\n"
          ]
        }
      ]
    },
    {
      "cell_type": "code",
      "source": [
        "import numpy as np\n",
        "x = np.array([[1,2], [3, 4]], dtype=np.float64)\n",
        "y = np.array([[6,9], [4, 4]], dtype=np.float64)\n",
        "print(\"x = \",x)\n",
        "print(\"y=\",y)\n",
        "print(\"Element wise addition: \",np.add(x, x))\n",
        "print(\"Element wise subtraction: \",np.subtract(x, y))\n",
        "print(\"Element wise multiplication: \",np.multiply(x, y))\n",
        "print(\"Element wise square root of x: \",np.sqrt(x))\n",
        "print(\"Matrix multiplication: \",np.dot(x, y))\n",
        "print(\"Sum of all elements of matrix x: \",np.sum(x))\n",
        "print(\"Sum of elements in each column of matrix y: \",np.sum(y,axis=0))\n",
        "print(\"Sum of elements in each row of matrix y: \",np.sum(y,axis=1))\n",
        "print(\"Transpose of matrix x: \",x.T)\n",
        ""
      ],
      "metadata": {
        "colab": {
          "base_uri": "https://localhost:8080/"
        },
        "id": "i6z7CcyTMj02",
        "outputId": "73328c7b-70b8-4ded-b756-846ff50617bf"
      },
      "execution_count": 4,
      "outputs": [
        {
          "output_type": "stream",
          "name": "stdout",
          "text": [
            "x =  [[1. 2.]\n",
            " [3. 4.]]\n",
            "y= [[6. 9.]\n",
            " [4. 4.]]\n",
            "Element wise addition:  [[2. 4.]\n",
            " [6. 8.]]\n",
            "Element wise subtraction:  [[-5. -7.]\n",
            " [-1.  0.]]\n",
            "Element wise multiplication:  [[ 6. 18.]\n",
            " [12. 16.]]\n",
            "Element wise square root of x:  [[1.         1.41421356]\n",
            " [1.73205081 2.        ]]\n",
            "Matrix multiplication:  [[14. 17.]\n",
            " [34. 43.]]\n",
            "Sum of all elements of matrix x:  10.0\n",
            "Sum of elements in each column of matrix y:  [10. 13.]\n",
            "Sum of elements in each row of matrix y:  [15.  8.]\n",
            "Transpose of matrix x:  [[1. 3.]\n",
            " [2. 4.]]\n"
          ]
        }
      ]
    },
    {
      "cell_type": "code",
      "source": [
        "import numpy as np\n",
        "print(\"Example for broadcasting: \")\n",
        "v=np.array([1,2,3])\n",
        "w=np.array([4,5])\n",
        "print(\"v = \",v)\n",
        "print(\"w = \",w)\n",
        "print(\"Outer product of above vectors: \")\n",
        "print(np.reshape(v,(3,1))*w)\n",
        "x=np.array([[1,2,3],[4,5,6]])\n",
        "print(\"x = \",x)\n",
        "print(\"Resultant matrix after adding the vector x to each row of matrix v: \")\n",
        "print(x+v)\n",
        "print(\"Example for broadcasting fails: \")\n",
        "print(\"Adding the vector x to each column of matrix w will generate an error\")\n",
        "print(\"Solution: Reshape the matrix w then the result will be: \")\n",
        "print(x+np.reshape(w,(2,1)))"
      ],
      "metadata": {
        "colab": {
          "base_uri": "https://localhost:8080/"
        },
        "id": "wMAY-VV6NFbZ",
        "outputId": "ec9916f7-6d5e-404b-e741-b2654eb47c54"
      },
      "execution_count": 5,
      "outputs": [
        {
          "output_type": "stream",
          "name": "stdout",
          "text": [
            "Example for broadcasting: \n",
            "v =  [1 2 3]\n",
            "w =  [4 5]\n",
            "Outer product of above vectors: \n",
            "[[ 4  5]\n",
            " [ 8 10]\n",
            " [12 15]]\n",
            "x =  [[1 2 3]\n",
            " [4 5 6]]\n",
            "Resultant matrix after adding the vector x to each row of matrix v: \n",
            "[[2 4 6]\n",
            " [5 7 9]]\n",
            "Example for broadcasting fails: \n",
            "Adding the vector x to each column of matrix w will generate an error\n",
            "Solution: Reshape the matrix w then the result will be: \n",
            "[[ 5  6  7]\n",
            " [ 9 10 11]]\n"
          ]
        }
      ]
    },
    {
      "cell_type": "code",
      "source": [
        "from numpy import array\n",
        "from scipy.linalg import svd\n",
        "# define a matrix\n",
        "A = array([[1, 2], [3, 4], [5, 6]])\n",
        "print(\"A=\",A)\n",
        "print(\"Shape of array A: \",A.shape)\n",
        "print(\"\")\n",
        "U, s, VT = svd (A)# SVD\n",
        "print(\"U = \",U)\n",
        "print(\"Shape of matrix U: \",U.shape)\n",
        "print(\"\")\n",
        "print(\"Sigma (diagonal matrix), s = \",s)\n",
        "print(\"Shape of matrix sigma : \",s.shape)\n",
        "print(\"\")\n",
        "print(\"Transpose Matrix, VT = \",VT)\n",
        "print(\"Shape of matrix VT: \",VT.shape)"
      ],
      "metadata": {
        "colab": {
          "base_uri": "https://localhost:8080/"
        },
        "id": "glejDsueNOKh",
        "outputId": "d17e3e30-e3c7-4bae-c5f0-b6bf481fe4a2"
      },
      "execution_count": 6,
      "outputs": [
        {
          "output_type": "stream",
          "name": "stdout",
          "text": [
            "A= [[1 2]\n",
            " [3 4]\n",
            " [5 6]]\n",
            "Shape of array A:  (3, 2)\n",
            "\n",
            "U =  [[-0.2298477   0.88346102  0.40824829]\n",
            " [-0.52474482  0.24078249 -0.81649658]\n",
            " [-0.81964194 -0.40189603  0.40824829]]\n",
            "Shape of matrix U:  (3, 3)\n",
            "\n",
            "Sigma (diagonal matrix), s =  [9.52551809 0.51430058]\n",
            "Shape of matrix sigma :  (2,)\n",
            "\n",
            "Transpose Matrix, VT =  [[-0.61962948 -0.78489445]\n",
            " [-0.78489445  0.61962948]]\n",
            "Shape of matrix VT:  (2, 2)\n"
          ]
        }
      ]
    },
    {
      "cell_type": "code",
      "source": [
        "\n",
        "#Reconstruct matrix from svd\n",
        "from numpy import array,diag,dot,zeros\n",
        "from scipy.linalg import svd\n",
        "A = array([[1, 2], [3, 4], [5, 6]])\n",
        "print(\"A = \",A)\n",
        "print(A.shape)\n",
        "U,s,VT = svd (A)\n",
        "print(\"U = \",U)\n",
        "print(U.shape)\n",
        "print(\"s = \",s)\n",
        "print(s.shape)\n",
        "print(\"VT = \",VT)\n",
        "print(VT.shape)\n",
        "sigma=zeros((A.shape[0],A.shape[1]))\n",
        "sigma[:A.shape[1],:A.shape[1]]=diag(s)\n",
        "B=U.dot(sigma.dot(VT))\n",
        "print(\"Reconstructed matrix: \",B)"
      ],
      "metadata": {
        "colab": {
          "base_uri": "https://localhost:8080/"
        },
        "id": "Bx39loBmNQ--",
        "outputId": "7520792b-0bc8-405c-e08d-5aae7b2611fd"
      },
      "execution_count": 7,
      "outputs": [
        {
          "output_type": "stream",
          "name": "stdout",
          "text": [
            "A =  [[1 2]\n",
            " [3 4]\n",
            " [5 6]]\n",
            "(3, 2)\n",
            "U =  [[-0.2298477   0.88346102  0.40824829]\n",
            " [-0.52474482  0.24078249 -0.81649658]\n",
            " [-0.81964194 -0.40189603  0.40824829]]\n",
            "(3, 3)\n",
            "s =  [9.52551809 0.51430058]\n",
            "(2,)\n",
            "VT =  [[-0.61962948 -0.78489445]\n",
            " [-0.78489445  0.61962948]]\n",
            "(2, 2)\n",
            "Reconstructed matrix:  [[1. 2.]\n",
            " [3. 4.]\n",
            " [5. 6.]]\n"
          ]
        }
      ]
    },
    {
      "cell_type": "code",
      "source": [
        "#svd for pseudoinverse\n",
        "from numpy import array, diag, zeros\n",
        "from scipy.linalg import pinv\n",
        "from numpy.linalg import svd\n",
        "A = array([[1, 2], [3, 4], [5, 6]])\n",
        "print(\"A = \",A)\n",
        "print(\"Pseudoinverse of matrix A calculated by function pinv is: \")\n",
        "print(pinv(A))\n",
        "d=1.0/s\n",
        "D=zeros(A.shape)\n",
        "D[:A.shape[1], :A.shape[1]]=diag(d)\n",
        "B=VT.T.dot(D.T).dot(U.T)\n",
        "print(\"Pseudoinverse of matrix A calculated by using svd is: \")\n",
        "print(B)"
      ],
      "metadata": {
        "colab": {
          "base_uri": "https://localhost:8080/"
        },
        "id": "mXCGSKV1NgL4",
        "outputId": "d1157002-b49f-4a5c-a17d-8c5f8fd4972a"
      },
      "execution_count": 8,
      "outputs": [
        {
          "output_type": "stream",
          "name": "stdout",
          "text": [
            "A =  [[1 2]\n",
            " [3 4]\n",
            " [5 6]]\n",
            "Pseudoinverse of matrix A calculated by function pinv is: \n",
            "[[-1.33333333 -0.33333333  0.66666667]\n",
            " [ 1.08333333  0.33333333 -0.41666667]]\n",
            "Pseudoinverse of matrix A calculated by using svd is: \n",
            "[[-1.33333333 -0.33333333  0.66666667]\n",
            " [ 1.08333333  0.33333333 -0.41666667]]\n"
          ]
        }
      ]
    },
    {
      "cell_type": "code",
      "source": [
        "#svd for dimensionality reduction\n",
        "from numpy import array, diag,zeros\n",
        "from sklearn.decomposition import TruncatedSVD\n",
        "from numpy.linalg import svd\n",
        "A = array([\n",
        "[1,2,3,4,5,6,7,8,9,10],\n",
        "[11,12,13,14,15,16,17,18,19,20], [21,22,23,24,25,26,27,28,29,30]])\n",
        "print(\"A = \",A)\n",
        "print(\"\")\n",
        "U,s,VT = svd(A)\n",
        "sigma=zeros((A.shape[0],A.shape[1]))\n",
        "sigma[:A.shape[0],:A.shape[0]]=diag(s)\n",
        "sigma=sigma[:,:2]\n",
        "VT=VT[:2,:]\n",
        "T=U.dot(sigma)\n",
        "T=A.dot(VT.T)\n",
        "print(\"Transform of the original matrix using svd is: \")\n",
        "print(T)\n",
        "print(\"\")\n",
        "svd=TruncatedSVD(2)\n",
        "svd.fit(A)\n",
        "result=svd.transform(A)\n",
        "print(\"Transformed version : \")\n",
        "print(result)"
      ],
      "metadata": {
        "colab": {
          "base_uri": "https://localhost:8080/"
        },
        "id": "qZRS9dRMNooH",
        "outputId": "b94df311-44a3-47a2-8378-9155a560c468"
      },
      "execution_count": 9,
      "outputs": [
        {
          "output_type": "stream",
          "name": "stdout",
          "text": [
            "A =  [[ 1  2  3  4  5  6  7  8  9 10]\n",
            " [11 12 13 14 15 16 17 18 19 20]\n",
            " [21 22 23 24 25 26 27 28 29 30]]\n",
            "\n",
            "Transform of the original matrix using svd is: \n",
            "[[-18.52157747   6.47697214]\n",
            " [-49.81310011   1.91182038]\n",
            " [-81.10462276  -2.65333138]]\n",
            "\n",
            "Transformed version : \n",
            "[[18.52157747  6.47697214]\n",
            " [49.81310011  1.91182038]\n",
            " [81.10462276 -2.65333138]]\n"
          ]
        }
      ]
    }
  ]
}